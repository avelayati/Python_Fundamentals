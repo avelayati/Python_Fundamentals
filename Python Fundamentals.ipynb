{
 "cells": [
  {
   "cell_type": "markdown",
   "metadata": {},
   "source": [
    "# Shortcuts"
   ]
  },
  {
   "cell_type": "code",
   "execution_count": 27,
   "metadata": {},
   "outputs": [],
   "source": [
    "# pip install (library name) : This comand is used ot download libraries\n",
    "# SHIFT + ENTER : Runs section; Alternatively press run button\n",
    "# Alt + ENTER : ADD New line; or use insert cell below/above\n",
    "# Press DD to remove a cell (not on the type in ready mode)\n",
    "# Ctrl + Enter/Run selected cells\n",
    "# Ctrl + S/Save and checkpoint\n",
    "# Enter/Takes you into an edit mode\n",
    "# When in command mode \"ESC\" will get you out of edit mode.\n",
    "# H/Shows all shortcuts (use H when in command mode)\n",
    "# Up/Select cell above\n",
    "# Down/Select cell below\n",
    "# Shift + Up/Extends selected cells above (use when in command mode)\n",
    "# Shift + Down/Extends selected cells below (use when in command mode)\n",
    "# A/Inserts cell above (use when in command mode)\n",
    "# B/Inserts cell below (use when in command mode)\n",
    "# X/Cuts selected cells (use when in command mode)\n",
    "# C/Copy selected cells (use when in command mode)\n",
    "# V/Paste cells below (use when in command mode)\n",
    "# Shift + V/Paste cells above (use when in command mode)\n",
    "# DD (press the \"D\" keyword twice)/Deletes selected cells (use when in command mode)\n",
    "# Z/Undo cell deletion (use when in command mode)\n",
    "# Ctrl + A/Selects all (use when in command mode)\n",
    "# Ctrl + Z/Undo (use when in command mode)\n",
    "\n",
    "# tab: Helps in autocompleting and faster coding in Jupyter Notebook\n",
    "# Example: type in mat then press tab and see the options for autocompleting:\n",
    "# %matplotlib\n",
    "\n",
    "# Shift + tab : Pressing this keyword inside a library’s parenthesis one time will open all the features associated\n",
    "# within that library\n",
    "# For example, if after importing \"import numpy as np\" np.linspace is typed and \"shift + tab\" is hit once, it will populate a\n",
    "# window that will show all the arguments that can be passed inside.\n",
    "# import numpy as np\n",
    "# np.linspace()"
   ]
  },
  {
   "cell_type": "markdown",
   "metadata": {},
   "source": [
    "# Basic Math Operations"
   ]
  },
  {
   "cell_type": "code",
   "execution_count": 28,
   "metadata": {},
   "outputs": [
    {
     "data": {
      "text/plain": [
       "1"
      ]
     },
     "execution_count": 28,
     "metadata": {},
     "output_type": "execute_result"
    }
   ],
   "source": [
    "\n",
    "4*4\n",
    "\n",
    "2*2+3\n",
    "\n",
    "10**2 #Power operator\n",
    "\n",
    "10/2\n",
    "\n",
    "13%2 #remainder of the division\n"
   ]
  },
  {
   "cell_type": "markdown",
   "metadata": {},
   "source": [
    "# Assigning a variable name"
   ]
  },
  {
   "cell_type": "code",
   "execution_count": 18,
   "metadata": {},
   "outputs": [
    {
     "data": {
      "text/plain": [
       "600"
      ]
     },
     "execution_count": 18,
     "metadata": {},
     "output_type": "execute_result"
    }
   ],
   "source": [
    "# Variable name cannot start with a number\n",
    "x = 100\n",
    "y = 200\n",
    "z = 300\n",
    "d = x+y+z\n",
    "d"
   ]
  },
  {
   "cell_type": "markdown",
   "metadata": {},
   "source": [
    "# Creating a string"
   ]
  },
  {
   "cell_type": "code",
   "execution_count": 29,
   "metadata": {},
   "outputs": [
    {
     "data": {
      "text/plain": [
       "'I Love Python'"
      ]
     },
     "execution_count": 29,
     "metadata": {},
     "output_type": "execute_result"
    }
   ],
   "source": [
    "# single or double quotes can be used.\n",
    "\n",
    "x = 'I Love Python'\n",
    "x\n",
    "x = \"I Love Python\"\n",
    "x\n"
   ]
  },
  {
   "cell_type": "markdown",
   "metadata": {},
   "source": [
    "# Indexing"
   ]
  },
  {
   "cell_type": "code",
   "execution_count": 31,
   "metadata": {},
   "outputs": [
    {
     "data": {
      "text/plain": [
       "34"
      ]
     },
     "execution_count": 31,
     "metadata": {},
     "output_type": "execute_result"
    }
   ],
   "source": [
    "# To index a string, bracket ([]) notation along with the element number can be used.\n",
    "# It is crucial to remember that indexing in Python starts with 0.\n",
    "\n",
    "y = \"Oil_Gas\"\n",
    "\n",
    "y[0] # 1st character\n",
    "y[5] # 6th character\n",
    "y[0:4] # To get the first 4 letters (first 5 characters), y [0:4] can be used.\n",
    "y[:] # To obtain the whole string\n",
    "y[:6] # Another way of indexing everything until an n-element. y[:6] essentially indicates indexing everything up until the sixth element\n",
    "# (excluding the sixth element).\n",
    "y[2:] #y[2:] can also be used to index the second element and thereafter.\n",
    "\n",
    "## Length of the string\n",
    "z = 'The optimal well spacing is 950 ft'\n",
    "len(z)"
   ]
  },
  {
   "cell_type": "markdown",
   "metadata": {},
   "source": [
    "# Lists"
   ]
  },
  {
   "cell_type": "code",
   "execution_count": 42,
   "metadata": {
    "scrolled": true
   },
   "outputs": [
    {
     "name": "stdout",
     "output_type": "stream",
     "text": [
      "Land\n"
     ]
    },
    {
     "data": {
      "text/plain": [
       "['title_Search', 'Geology', 'Drilling', 'Frac', 100]"
      ]
     },
     "execution_count": 42,
     "metadata": {},
     "output_type": "execute_result"
    }
   ],
   "source": [
    "list = ['Land','Geology','Drilling']\n",
    "list.append('Frac') # append() takes exactly one argument\n",
    "list.append(100)\n",
    "list\n",
    "\n",
    "# To index from a list, the same bracket notation as string indexing can be used.\n",
    "list[0]\n",
    "print(list[0]) # print syntax shows the output, if not used python shows only the last one\n",
    "list[0:4] # Excludes the 4th element  \n",
    "\n",
    "# To replace the first element with \"Title_Search,\" the following line can be used:\n",
    "list[0] = 'title_Search'\n",
    "list"
   ]
  },
  {
   "cell_type": "markdown",
   "metadata": {},
   "source": [
    "# Nested Lists"
   ]
  },
  {
   "cell_type": "code",
   "execution_count": 48,
   "metadata": {},
   "outputs": [
    {
     "data": {
      "text/plain": [
       "3"
      ]
     },
     "execution_count": 48,
     "metadata": {},
     "output_type": "execute_result"
    }
   ],
   "source": [
    "# Lists inside another list\n",
    "nested_list = [10,20, [30,40,50,60]]\n",
    "nested_list\n",
    "nested_list[2][0] # To call first element from the third list in the nested list\n",
    "\n",
    "# Example : If the objective is to get number 3 from the nested_list2\n",
    "nested_list2 = [10,20, [30,40,50,60, [4,3,1]]]\n",
    "nested_list2[2][4][1]"
   ]
  },
  {
   "cell_type": "markdown",
   "metadata": {},
   "source": [
    "# Creating a Dictionary"
   ]
  },
  {
   "cell_type": "code",
   "execution_count": 9,
   "metadata": {},
   "outputs": [
    {
     "name": "stdout",
     "output_type": "stream",
     "text": [
      "{'a': {'inner_a': [1, 2, 3]}}\n"
     ]
    },
    {
     "data": {
      "text/plain": [
       "2"
      ]
     },
     "execution_count": 9,
     "metadata": {},
     "output_type": "execute_result"
    }
   ],
   "source": [
    "# When using dictionary, wiggly brackets are used {}\n",
    "# Example: Dictionart a which contains various ML models and their respective scores\n",
    "a = {'ML_Models':['ANN','SVM','RF','GB','XGB'],'Scores':[90,85,95,90,100]}\n",
    "a\n",
    "\n",
    "a['ML_Models'] #Indexing ML models\n",
    "a['ML_Models'][0:3] # Showing all models excluding the 4th model and the rest (3 is not included)\n",
    "\n",
    "# Nested Dictionary Example\n",
    "d = {'a':{'inner_a':[1,2,3]}}\n",
    "print(d)\n",
    "\n",
    "# If the objective is to show number 2 in the above dictionary:\n",
    "d['a']['inner_a'][1]\n"
   ]
  },
  {
   "cell_type": "markdown",
   "metadata": {},
   "source": [
    "# Creating a tuple"
   ]
  },
  {
   "cell_type": "code",
   "execution_count": 10,
   "metadata": {},
   "outputs": [
    {
     "ename": "TypeError",
     "evalue": "'tuple' object does not support item assignment",
     "output_type": "error",
     "traceback": [
      "\u001b[1;31m---------------------------------------------------------------------------\u001b[0m",
      "\u001b[1;31mTypeError\u001b[0m                                 Traceback (most recent call last)",
      "\u001b[1;32m<ipython-input-10-030ccb1ab4de>\u001b[0m in \u001b[0;36m<module>\u001b[1;34m\u001b[0m\n\u001b[0;32m      3\u001b[0m \u001b[1;31m# can be assigned; however, tuples do not support item assignments which means they are immutable\u001b[0m\u001b[1;33m\u001b[0m\u001b[1;33m\u001b[0m\u001b[1;33m\u001b[0m\u001b[0m\n\u001b[0;32m      4\u001b[0m \u001b[0mt\u001b[0m \u001b[1;33m=\u001b[0m \u001b[1;33m(\u001b[0m\u001b[1;36m100\u001b[0m\u001b[1;33m,\u001b[0m\u001b[1;36m200\u001b[0m\u001b[1;33m,\u001b[0m\u001b[1;36m300\u001b[0m\u001b[1;33m,\u001b[0m\u001b[1;36m400\u001b[0m\u001b[1;33m)\u001b[0m\u001b[1;33m\u001b[0m\u001b[1;33m\u001b[0m\u001b[0m\n\u001b[1;32m----> 5\u001b[1;33m \u001b[0mt\u001b[0m\u001b[1;33m[\u001b[0m\u001b[1;36m0\u001b[0m\u001b[1;33m]\u001b[0m \u001b[1;33m=\u001b[0m \u001b[1;34m'New'\u001b[0m\u001b[1;33m\u001b[0m\u001b[1;33m\u001b[0m\u001b[0m\n\u001b[0m",
      "\u001b[1;31mTypeError\u001b[0m: 'tuple' object does not support item assignment"
     ]
    }
   ],
   "source": [
    "# As opposed to lists that use brackets, tuples use parentheses to define a sequence of elements.\n",
    "# One of the advantages of using a list is that items \n",
    "# can be assigned; however, tuples do not support item assignments which means they are immutable\n",
    "t = (100,200,300,400)\n",
    "t[0] = 'New' #\"tuple’s object does not support item assignment.\" This is essentially the primary difference between lists and tuples."
   ]
  },
  {
   "cell_type": "markdown",
   "metadata": {},
   "source": [
    "# Creating a Set"
   ]
  },
  {
   "cell_type": "markdown",
   "metadata": {},
   "source": [
    "Set is defined by unique elements which means defining the same numbers multiple times will only return the unique numbers and will not show the repetitive numbers. The wiggly brackets ({}) can be used to generate a set as follows."
   ]
  },
  {
   "cell_type": "code",
   "execution_count": 22,
   "metadata": {},
   "outputs": [
    {
     "name": "stdout",
     "output_type": "stream",
     "text": [
      "{200, 100, 300}\n"
     ]
    },
    {
     "data": {
      "text/plain": [
       "{100, 200, 300, 500}"
      ]
     },
     "execution_count": 22,
     "metadata": {},
     "output_type": "execute_result"
    }
   ],
   "source": [
    "set = {100,200,300,100,200,300}\n",
    "print(set)\n",
    "\n",
    "set.add(500)\n",
    "set\n"
   ]
  },
  {
   "cell_type": "markdown",
   "metadata": {},
   "source": [
    "# If statements"
   ]
  },
  {
   "cell_type": "markdown",
   "metadata": {},
   "source": [
    "Make sure if and else are indented otherwise ann error will be dsiplayed\n",
    "The \"tab\" keyword can be used to indent in Jupyter Notebook."
   ]
  },
  {
   "cell_type": "code",
   "execution_count": 26,
   "metadata": {},
   "outputs": [
    {
     "name": "stdout",
     "output_type": "stream",
     "text": [
      "Not True\n",
      "BAD\n",
      "Enter any number10\n",
      "POSITIVE Number\n"
     ]
    }
   ],
   "source": [
    "if 100==200:\n",
    "    print('Great')\n",
    "else:\n",
    "    print('Not True')\n",
    "    \n",
    "\n",
    "    \n",
    "X = 100\n",
    "Y = 200\n",
    "Z = 300\n",
    "if X>Y:\n",
    "    print('Good')\n",
    "elif Z<Y:\n",
    "    print('SO SO')\n",
    "else:\n",
    "    print('BAD')\n",
    "    \n",
    "    \n",
    "n = float(input(\"Enter any number\"))\n",
    "if n==0:\n",
    "    print('ZERO')\n",
    "elif n>0:\n",
    "    print('POSITIVE Number')\n",
    "else:\n",
    "    print('NEGATIVE Number')"
   ]
  },
  {
   "cell_type": "markdown",
   "metadata": {},
   "source": [
    "# For Loop"
   ]
  },
  {
   "cell_type": "code",
   "execution_count": 28,
   "metadata": {},
   "outputs": [
    {
     "name": "stdout",
     "output_type": "stream",
     "text": [
      "0\n",
      "1\n",
      "2\n",
      "3\n",
      "4\n"
     ]
    }
   ],
   "source": [
    "i=range(0,5) # Excludes 5\n",
    "for x in i:\n",
    "    print(x) # Mind the indentation "
   ]
  },
  {
   "cell_type": "markdown",
   "metadata": {},
   "source": [
    "The \"break\" function allows stopping through the loop before looping\n",
    "through all the items."
   ]
  },
  {
   "cell_type": "code",
   "execution_count": 32,
   "metadata": {},
   "outputs": [
    {
     "name": "stdout",
     "output_type": "stream",
     "text": [
      "Frac_Crew_1\n",
      "Frac_Crew_2\n"
     ]
    }
   ],
   "source": [
    "Frac_Crews = ['Frac_Crew_1', 'Frac_Crew_2', 'Frac_Crew_3','Frac_Crew_4']\n",
    "for x in Frac_Crews:\n",
    "    print(x)\n",
    "    if x=='Frac_Crew_2':\n",
    "        break"
   ]
  },
  {
   "cell_type": "markdown",
   "metadata": {},
   "source": [
    "With the \"continue\" statement, it is possible to stop the current iteration of\n",
    "the loop and continue with the next."
   ]
  },
  {
   "cell_type": "code",
   "execution_count": 35,
   "metadata": {},
   "outputs": [
    {
     "name": "stdout",
     "output_type": "stream",
     "text": [
      "Frac_Crew_1\n",
      "Frac_Crew_3\n",
      "Frac_Crew_4\n"
     ]
    }
   ],
   "source": [
    "Frac_Crews=['Frac_Crew_1', 'Frac_Crew_2', 'Frac_Crew_3','Frac_Crew_4']\n",
    "for x in Frac_Crews:\n",
    "    if x=='Frac_Crew_2':\n",
    "        continue\n",
    "    print(x)"
   ]
  },
  {
   "cell_type": "markdown",
   "metadata": {},
   "source": [
    "The \"range\" function can also be used in different increments. By default,\n",
    "the range function uses the following sequence to generate the numbers: start,\n",
    "stop, increments."
   ]
  },
  {
   "cell_type": "code",
   "execution_count": 37,
   "metadata": {},
   "outputs": [
    {
     "name": "stdout",
     "output_type": "stream",
     "text": [
      "10\n",
      "14\n",
      "18\n"
     ]
    }
   ],
   "source": [
    "for x in range(10,20,4):\n",
    "    print(x)"
   ]
  },
  {
   "cell_type": "markdown",
   "metadata": {},
   "source": [
    "# Nested Loops"
   ]
  },
  {
   "cell_type": "markdown",
   "metadata": {},
   "source": [
    "In various ML optimization programs such as grid search, nested loops are very\n",
    "common to optimize the ML hyperparameters."
   ]
  },
  {
   "cell_type": "code",
   "execution_count": 38,
   "metadata": {},
   "outputs": [
    {
     "name": "stdout",
     "output_type": "stream",
     "text": [
      "Low_Performing Drilling_Crew_1\n",
      "Low_Performing Drilling_Crew_2\n",
      "Low_Performing Drilling_Crew_3\n",
      "Medium_Performing Drilling_Crew_1\n",
      "Medium_Performing Drilling_Crew_2\n",
      "Medium_Performing Drilling_Crew_3\n",
      "High_Performing Drilling_Crew_1\n",
      "High_Performing Drilling_Crew_2\n",
      "High_Performing Drilling_Crew_3\n"
     ]
    }
   ],
   "source": [
    "Performance = [\"Low_Performing\", \"Medium_Performing\",'High_Performing']\n",
    "Drilling_Crews = [\"Drilling_Crew_1\", \"Drilling_Crew_2\",\"Drilling_Crew_3\"]\n",
    "for x in Performance:\n",
    "    for y in Drilling_Crews:\n",
    "        print(x, y)"
   ]
  },
  {
   "cell_type": "code",
   "execution_count": 42,
   "metadata": {},
   "outputs": [
    {
     "name": "stdout",
     "output_type": "stream",
     "text": [
      "[300]\n",
      "[300, 600]\n",
      "[300, 600, 1100]\n",
      "[300, 600, 1100, 1800]\n"
     ]
    }
   ],
   "source": [
    "i = [10,20,30,40]\n",
    "out = []\n",
    "for x in i:\n",
    "    out.append(x**2+200)\n",
    "    print(out)"
   ]
  },
  {
   "cell_type": "markdown",
   "metadata": {},
   "source": [
    "Compare the difference in output with the cell above"
   ]
  },
  {
   "cell_type": "code",
   "execution_count": 43,
   "metadata": {},
   "outputs": [
    {
     "name": "stdout",
     "output_type": "stream",
     "text": [
      "[300, 600, 1100, 1800]\n"
     ]
    }
   ],
   "source": [
    "i = [10,20,30,40]\n",
    "out = []\n",
    "for x in i:\n",
    "    out.append(x**2+200)\n",
    "print(out)"
   ]
  },
  {
   "cell_type": "markdown",
   "metadata": {},
   "source": [
    "# List Comprehension"
   ]
  },
  {
   "cell_type": "markdown",
   "metadata": {},
   "source": [
    "List comprehension is another powerful way of performing calculations quickly. The calculations listed above could have been simplified in the following list comprehension:"
   ]
  },
  {
   "cell_type": "code",
   "execution_count": 44,
   "metadata": {},
   "outputs": [
    {
     "data": {
      "text/plain": [
       "[300, 600, 1100, 1800]"
      ]
     },
     "execution_count": 44,
     "metadata": {},
     "output_type": "execute_result"
    }
   ],
   "source": [
    "i = [10,20,30,40]\n",
    "[x**2+200 for x in i]"
   ]
  },
  {
   "cell_type": "markdown",
   "metadata": {},
   "source": [
    "As shown in the list comprehension example above, first write down the mathematical calculations that is desired followed by \"for x in i\" inside a bracket. Below is another example:"
   ]
  },
  {
   "cell_type": "code",
   "execution_count": 46,
   "metadata": {},
   "outputs": [
    {
     "data": {
      "text/plain": [
       "[409, 423, 439, 457, 477, 499]"
      ]
     },
     "execution_count": 46,
     "metadata": {},
     "output_type": "execute_result"
    }
   ],
   "source": [
    "y = [5,6,7,8,9,10]\n",
    "[x**2+3*x+369 for x in y]"
   ]
  },
  {
   "cell_type": "markdown",
   "metadata": {},
   "source": [
    "# Defining a Function"
   ]
  },
  {
   "cell_type": "markdown",
   "metadata": {},
   "source": [
    "A function can be definedby using \"def\" followed by \"return\" to perform various mathematical equations:"
   ]
  },
  {
   "cell_type": "code",
   "execution_count": 49,
   "metadata": {},
   "outputs": [
    {
     "data": {
      "text/plain": [
       "60"
      ]
     },
     "execution_count": 49,
     "metadata": {},
     "output_type": "execute_result"
    }
   ],
   "source": [
    "def linear_function(n):\n",
    "    return 2*n+20\n",
    "linear_function(20)"
   ]
  },
  {
   "cell_type": "code",
   "execution_count": 50,
   "metadata": {},
   "outputs": [
    {
     "data": {
      "text/plain": [
       "420"
      ]
     },
     "execution_count": 50,
     "metadata": {},
     "output_type": "execute_result"
    }
   ],
   "source": [
    "linear_function(200)"
   ]
  },
  {
   "cell_type": "markdown",
   "metadata": {},
   "source": [
    "first use the syntax \"def\" to define any name that is desirable. Afterward, return the equation that is desirable. Finally, call the defined name followed by the number that is desired to use to run the calculations. Below is another example:"
   ]
  },
  {
   "cell_type": "code",
   "execution_count": 52,
   "metadata": {},
   "outputs": [
    {
     "data": {
      "text/plain": [
       "450"
      ]
     },
     "execution_count": 52,
     "metadata": {},
     "output_type": "execute_result"
    }
   ],
   "source": [
    "def Turner_rate(x):\n",
    "    return x**2+50\n",
    "Turner_rate(20)"
   ]
  }
 ],
 "metadata": {
  "kernelspec": {
   "display_name": "Python 3",
   "language": "python",
   "name": "python3"
  },
  "language_info": {
   "codemirror_mode": {
    "name": "ipython",
    "version": 3
   },
   "file_extension": ".py",
   "mimetype": "text/x-python",
   "name": "python",
   "nbconvert_exporter": "python",
   "pygments_lexer": "ipython3",
   "version": "3.7.3"
  }
 },
 "nbformat": 4,
 "nbformat_minor": 2
}
